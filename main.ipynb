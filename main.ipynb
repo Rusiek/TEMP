{
 "cells": [
  {
   "cell_type": "code",
   "execution_count": 1,
   "metadata": {},
   "outputs": [],
   "source": [
    "import tqdm\n",
    "import json\n",
    "import os\n",
    "import scipy\n",
    "import nltk\n",
    "import pickle\n",
    "import numpy as np\n",
    "from sklearn.feature_extraction.text import TfidfVectorizer\n",
    "from time import sleep\n",
    "from nltk.corpus import stopwords"
   ]
  },
  {
   "cell_type": "code",
   "execution_count": 2,
   "metadata": {},
   "outputs": [
    {
     "name": "stderr",
     "output_type": "stream",
     "text": [
      "Loading data: 100%|███████████████████████████████████████████████| 605/605 [5:02:47<00:00, 30.03s/file]\n"
     ]
    }
   ],
   "source": [
    "paths = os.listdir('data')\n",
    "BATCH_SIZE = 72\n",
    "\n",
    "titles = [[] for _ in range(len(paths) // BATCH_SIZE + 1)]\n",
    "eng_stopwords = set(stopwords.words('english'))\n",
    "eng_words = set(nltk.corpus.words.words())\n",
    "\n",
    "small_it = 0\n",
    "big_it = 0\n",
    "for file in tqdm.tqdm(\n",
    "    paths,\n",
    "    desc='Loading data',\n",
    "    unit='file'\n",
    "    ):\n",
    "    documents = []\n",
    "    if file.endswith('.json'):\n",
    "        with open(os.path.join('data', file)) as f:\n",
    "            data = json.load(f)\n",
    "            for part in data:\n",
    "                text = part['text'].lower()\n",
    "                text = ''.join([c for c in text if c.isascii()])\n",
    "                text = nltk.word_tokenize(text)\n",
    "                text = [word for word in text if word not in eng_stopwords and word in eng_words]\n",
    "                if len(text) < 200: continue\n",
    "                titles[big_it].append(part['title'])\n",
    "\n",
    "    if small_it % BATCH_SIZE == BATCH_SIZE - 1:\n",
    "        # save titles to file\n",
    "        with open(f'./svd_matrix/titles/titles_{str(big_it).rjust(3, \"0\")}.pkl', 'wb') as f:\n",
    "            pickle.dump(titles[big_it], f)\n",
    "        small_it = 0\n",
    "        big_it += 1\n",
    "    else:\n",
    "        small_it += 1"
   ]
  },
  {
   "cell_type": "code",
   "execution_count": 4,
   "metadata": {},
   "outputs": [
    {
     "name": "stdout",
     "output_type": "stream",
     "text": [
      "Total number of titles in batch 001: 188537\n",
      "Total number of titles in batch 002: 185658\n",
      "Total number of titles in batch 003: 184584\n",
      "Total number of titles in batch 004: 184896\n",
      "Total number of titles in batch 005: 185757\n",
      "Total number of titles in batch 006: 165758\n",
      "Total number of titles in batch 007: 175535\n",
      "Total number of titles in batch 008: 174688\n",
      "Total number of titles in batch 009: 69965\n",
      "Total number of titles in all batches: 1515378\n"
     ]
    }
   ],
   "source": [
    "for big_it in range(len(titles)):\n",
    "    print(f'Total number of titles in batch {str(big_it + 1).rjust(3, \"0\")}:', len(titles[big_it]))\n",
    "print('Total number of titles in all batches:', sum([len(titles[big_it]) for big_it in range(len(titles))]))"
   ]
  },
  {
   "cell_type": "code",
   "execution_count": null,
   "metadata": {},
   "outputs": [
    {
     "name": "stderr",
     "output_type": "stream",
     "text": [
      "Making tf-idf matrix:   0%|          | 2/605 [01:26<7:14:05, 43.19s/file]\n"
     ]
    }
   ],
   "source": [
    "mini_it = 0\n",
    "small_it = 0\n",
    "big_it = 0\n",
    "matrix_data = []\n",
    "for file in tqdm.tqdm(\n",
    "    paths,\n",
    "    desc='Making tf-idf matrix',\n",
    "    unit='file'\n",
    "    ):\n",
    "    if file.endswith('.json'):\n",
    "        with open(os.path.join('data', file)) as f:\n",
    "            data = json.load(f)\n",
    "            for part in data:\n",
    "                words_apperance_vector = {}\n",
    "                text = part['text'].lower()\n",
    "                text = ''.join([c for c in text if c.isascii()])\n",
    "                text = nltk.word_tokenize(text)\n",
    "                text = [word for word in text if word not in eng_stopwords and word in eng_words]\n",
    "\n",
    "                if len(text) < 200: continue\n",
    "\n",
    "                text = ''.join([f'{word} ' for word in text])\n",
    "                matrix_data.append(text)\n",
    "                mini_it += 1\n",
    "    \n",
    "    if small_it % BATCH_SIZE == BATCH_SIZE - 1:\n",
    "        tfidf = TfidfVectorizer()\n",
    "        tfidf_matrix = tfidf.fit_transform(matrix_data)\n",
    "        u, s, v = scipy.sparse.linalg.svds(tfidf_matrix, k=100)\n",
    "        np.save(f'./svd_matrix/v/v_{str(big_it).rjust(3, \"0\")}.npy', v)\n",
    "        np.save(f'./svd_matrix/s/s_{str(big_it).rjust(3, \"0\")}.npy', s)\n",
    "        np.save(f'./svd_matrix/u/u_{str(big_it).rjust(3, \"0\")}.npy', u)\n",
    "        # save vocabulary to file\n",
    "        with open(f'./svd_matrix/voc/voc_{str(big_it).rjust(3, \"0\")}.pkl', 'wb') as f:\n",
    "            pickle.dump(tfidf.vocabulary_, f)\n",
    "        small_it = 0\n",
    "        big_it += 1\n",
    "        matrix_data = []\n",
    "        if big_it == 8: break\n",
    "    else:\n",
    "        small_it += 1"
   ]
  },
  {
   "cell_type": "code",
   "execution_count": 26,
   "metadata": {},
   "outputs": [],
   "source": [
    "# remove all npy files from directory and subdirectories\n",
    "for root, dirs, files in os.walk('./svd_matrix'):\n",
    "    for file in files:\n",
    "        if file.endswith('.npy') or file.endswith('.pkl'):\n",
    "            os.remove(os.path.join(root, file))"
   ]
  },
  {
   "cell_type": "code",
   "execution_count": 30,
   "metadata": {},
   "outputs": [],
   "source": [
    "for root, dirs, files in os.walk('svd_matrix'):\n",
    "    for file in files:\n",
    "        os.rename(os.path.join(root, file), os.path.join(root, 'test_' + file))"
   ]
  }
 ],
 "metadata": {
  "kernelspec": {
   "display_name": "Python 3 (ipykernel)",
   "language": "python",
   "name": "python3"
  },
  "language_info": {
   "codemirror_mode": {
    "name": "ipython",
    "version": 3
   },
   "file_extension": ".py",
   "mimetype": "text/x-python",
   "name": "python",
   "nbconvert_exporter": "python",
   "pygments_lexer": "ipython3",
   "version": "3.9.16"
  },
  "vscode": {
   "interpreter": {
    "hash": "57b21e73937103507f9ce29e2bd87997b9ad2d87ed50c46eb314608feae6cb08"
   }
  }
 },
 "nbformat": 4,
 "nbformat_minor": 2
}
