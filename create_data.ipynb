{
 "cells": [
  {
   "cell_type": "code",
   "execution_count": 1,
   "metadata": {},
   "outputs": [],
   "source": [
    "import tqdm\n",
    "import json\n",
    "import os\n",
    "import scipy\n",
    "import nltk\n",
    "import pickle\n",
    "import numpy as np\n",
    "from sklearn.feature_extraction.text import TfidfVectorizer\n",
    "from nltk.corpus import stopwords"
   ]
  },
  {
   "cell_type": "code",
   "execution_count": 2,
   "metadata": {},
   "outputs": [
    {
     "name": "stderr",
     "output_type": "stream",
     "text": [
      "Loading data: 100%|██████████| 605/605 [3:56:44<00:00, 23.48s/file]  \n"
     ]
    }
   ],
   "source": [
    "paths = os.listdir('data')\n",
    "BATCH_SIZE = 72\n",
    "\n",
    "titles = [[] for _ in range(len(paths) // BATCH_SIZE + 1)]\n",
    "eng_stopwords = set(stopwords.words('english'))\n",
    "eng_words = set(nltk.corpus.words.words())\n",
    "\n",
    "small_it = 0\n",
    "big_it = 0\n",
    "for file in tqdm.tqdm(\n",
    "    paths,\n",
    "    desc='Loading data',\n",
    "    unit='file'\n",
    "    ):\n",
    "    documents = []\n",
    "    if file.endswith('.json'):\n",
    "        with open(os.path.join('data', file)) as f:\n",
    "            data = json.load(f)\n",
    "            for part in data:\n",
    "                text = part['text'].lower()\n",
    "                text = ''.join([c for c in text if c.isascii()])\n",
    "                text = nltk.word_tokenize(text)\n",
    "                text = [word for word in text if word not in eng_stopwords and word in eng_words]\n",
    "                if len(text) < 150: continue\n",
    "                titles[big_it].append(part['title'])\n",
    "\n",
    "    if small_it % BATCH_SIZE == BATCH_SIZE - 1:\n",
    "        with open(f'./svd_matrix/titles/titles_{big_it}.pkl', 'wb') as f:\n",
    "            pickle.dump(titles[big_it], f)\n",
    "        small_it = 0\n",
    "        big_it += 1\n",
    "    else:\n",
    "        small_it += 1"
   ]
  },
  {
   "cell_type": "code",
   "execution_count": 3,
   "metadata": {},
   "outputs": [
    {
     "name": "stdout",
     "output_type": "stream",
     "text": [
      "Total number of titles in batch 1: 243529\n",
      "Total number of titles in batch 2: 241976\n",
      "Total number of titles in batch 3: 242344\n",
      "Total number of titles in batch 4: 238768\n",
      "Total number of titles in batch 5: 244482\n",
      "Total number of titles in batch 6: 218092\n",
      "Total number of titles in batch 7: 226141\n",
      "Total number of titles in batch 8: 229814\n",
      "Total number of titles in batch 9: 92336\n",
      "Total number of titles in all batches: 1977482\n"
     ]
    }
   ],
   "source": [
    "for big_it in range(len(titles)):\n",
    "    print(f'Total number of titles in batch {big_it + 1}:', len(titles[big_it]))\n",
    "print('Total number of titles in all batches:', sum([len(titles[big_it]) for big_it in range(len(titles))]))"
   ]
  },
  {
   "cell_type": "code",
   "execution_count": 6,
   "metadata": {},
   "outputs": [
    {
     "name": "stderr",
     "output_type": "stream",
     "text": [
      "Making tf-idf matrix: 100%|██████████| 605/605 [4:32:58<00:00, 27.07s/file]    \n"
     ]
    }
   ],
   "source": [
    "mini_it = 0\n",
    "small_it = 0\n",
    "big_it = 0\n",
    "matrix_data = []\n",
    "for file in tqdm.tqdm(\n",
    "    paths,\n",
    "    desc='Making tf-idf matrix',\n",
    "    unit='file'\n",
    "    ):\n",
    "    if file.endswith('.json'):\n",
    "        with open(os.path.join('data', file)) as f:\n",
    "            data = json.load(f)\n",
    "            for part in data:\n",
    "                words_apperance_vector = {}\n",
    "                text = part['text'].lower()\n",
    "                text = ''.join([c for c in text if c.isascii()])\n",
    "                text = nltk.word_tokenize(text)\n",
    "                text = [word for word in text if word not in eng_stopwords and word in eng_words]\n",
    "                if len(text) < 150: continue\n",
    "                text = ''.join([f'{word} ' for word in text])\n",
    "                matrix_data.append(text)\n",
    "                mini_it += 1\n",
    "    \n",
    "    if small_it % BATCH_SIZE == BATCH_SIZE - 1 or file == paths[-1]:\n",
    "        tfidf = TfidfVectorizer()\n",
    "        tfidf_matrix = tfidf.fit_transform(matrix_data)\n",
    "        u, s, v = scipy.sparse.linalg.svds(tfidf_matrix, k=300)\n",
    "        np.save(f'./svd_matrix/v/v_{big_it}.npy', v)\n",
    "        np.save(f'./svd_matrix/s/s_{big_it}.npy', s)\n",
    "        np.save(f'./svd_matrix/u/u_{big_it}.npy', u)\n",
    "        with open(f'./svd_matrix/voc/voc_{big_it}.pkl', 'wb') as f:\n",
    "            pickle.dump(tfidf.vocabulary_, f)\n",
    "        small_it = 0\n",
    "        big_it += 1\n",
    "        matrix_data = []\n",
    "    else:\n",
    "        small_it += 1"
   ]
  }
 ],
 "metadata": {
  "kernelspec": {
   "display_name": "Python 3 (ipykernel)",
   "language": "python",
   "name": "python3"
  },
  "language_info": {
   "codemirror_mode": {
    "name": "ipython",
    "version": 3
   },
   "file_extension": ".py",
   "mimetype": "text/x-python",
   "name": "python",
   "nbconvert_exporter": "python",
   "pygments_lexer": "ipython3",
   "version": "3.9.16"
  },
  "vscode": {
   "interpreter": {
    "hash": "57b21e73937103507f9ce29e2bd87997b9ad2d87ed50c46eb314608feae6cb08"
   }
  }
 },
 "nbformat": 4,
 "nbformat_minor": 2
}
